{
  "cells": [
    {
      "cell_type": "code",
      "execution_count": null,
      "metadata": {
        "colab": {
          "base_uri": "https://localhost:8080/"
        },
        "id": "tshu9czQYq2-",
        "outputId": "8322b072-4cb6-4a7f-8284-56d30d3ad31d"
      },
      "outputs": [
        {
          "output_type": "stream",
          "name": "stdout",
          "text": [
            "Drive already mounted at /content/gdrive; to attempt to forcibly remount, call drive.mount(\"/content/gdrive\", force_remount=True).\n"
          ]
        }
      ],
      "source": [
        "from google.colab import drive\n",
        "drive.mount('/content/gdrive')"
      ]
    },
    {
      "cell_type": "code",
      "execution_count": null,
      "metadata": {
        "id": "vS0ykhJh3MfC"
      },
      "outputs": [],
      "source": [
        "# Thêm thư viện\n",
        "import numpy as np\n",
        "from numpy import array\n",
        "import pandas as pd\n",
        "import matplotlib.pyplot as plt\n",
        "%matplotlib inline\n",
        "import string\n",
        "import os\n",
        "from PIL import Image\n",
        "import glob\n",
        "from pickle import dump, load\n",
        "from time import time\n",
        "\n",
        "from keras.preprocessing import sequence\n",
        "from keras.models import Sequential\n",
        "from keras.layers import LSTM, Embedding, TimeDistributed, Dense, RepeatVector,\\\n",
        "                         Activation, Flatten, Reshape, concatenate, Dropout, BatchNormalization\n",
        "from keras.optimizers import Adam, RMSprop\n",
        "from keras.layers import Bidirectional\n",
        "from keras.layers import add\n",
        "from keras.applications.inception_v3 import InceptionV3\n",
        "from keras.applications.vgg16 import VGG16\n",
        "from tensorflow.keras.applications import EfficientNetB0\n",
        "import keras.utils as image\n",
        "from keras.models import Model\n",
        "from keras import Input, layers\n",
        "from keras import optimizers\n",
        "from keras.applications.inception_v3 import preprocess_input\n",
        "from keras.preprocessing.text import Tokenizer\n",
        "from keras_preprocessing.sequence import pad_sequences\n",
        "from keras.utils import to_categorical"
      ]
    },
    {
      "cell_type": "code",
      "execution_count": null,
      "metadata": {
        "colab": {
          "base_uri": "https://localhost:8080/"
        },
        "id": "RxW2rOmA3Ot2",
        "outputId": "51c6891c-39fc-472c-f2fa-f488b0259c5a"
      },
      "outputs": [
        {
          "output_type": "stream",
          "name": "stdout",
          "text": [
            "1000268201_693b08cb0e.jpg#0\tA child in a pink dress is climbing up a set of stairs in an entry way .\n",
            "1000268201_693b08cb0e.jpg#1\tA girl going into a wooden building .\n",
            "1000268201_693b08cb0e.jpg#2\tA little girl climbing into a wooden playhouse .\n",
            "1000268201_693b08cb0e.jpg#3\tA little girl climbing the s\n"
          ]
        }
      ],
      "source": [
        "# Đọc file các caption\n",
        "def load_doc(filename):\n",
        "\t# open the file as read only\n",
        "\tfile = open(filename, 'r')\n",
        "\t# read all text\n",
        "\ttext = file.read()\n",
        "\t# close the file\n",
        "\tfile.close()\n",
        "\treturn text\n",
        "\n",
        "filename = \"/content/gdrive/MyDrive/AI/Flickr8k_text.zip (Unzipped Files)/Flickr8k.token.txt\"\n",
        "\n",
        "doc = load_doc(filename)\n",
        "print(doc[:300])"
      ]
    },
    {
      "cell_type": "code",
      "execution_count": null,
      "metadata": {
        "colab": {
          "base_uri": "https://localhost:8080/"
        },
        "id": "b5M1O0yA3Ows",
        "outputId": "b0bde9a1-e946-4362-c73c-851942ef2837"
      },
      "outputs": [
        {
          "output_type": "stream",
          "name": "stdout",
          "text": [
            "Loaded: 8092 \n"
          ]
        }
      ],
      "source": [
        "# Lưu caption dưới dạng key value: id_image : ['caption 1', 'caption 2', 'caption 3',' caption 4', 'caption 5']\n",
        "def load_descriptions(doc):\n",
        "\tmapping = dict()\n",
        "\t# process lines\n",
        "\tfor line in doc.split('\\n'):\n",
        "\t\t# split line by white space\n",
        "\t\ttokens = line.split()\n",
        "\t\tif len(line) < 2:\n",
        "\t\t\tcontinue\n",
        "\t\t# take the first token as the image id, the rest as the description\n",
        "\t\timage_id, image_desc = tokens[0], tokens[1:]\n",
        "\t\t# extract filename from image id\n",
        "\t\timage_id = image_id.split('.')[0]\n",
        "\t\t# convert description tokens back to string\n",
        "\t\timage_desc = ' '.join(image_desc)\n",
        "\t\t# create the list if needed\n",
        "\t\tif image_id not in mapping:\n",
        "\t\t\tmapping[image_id] = list()\n",
        "\t\t# store description\n",
        "\t\tmapping[image_id].append(image_desc)\n",
        "\treturn mapping\n",
        "\n",
        "descriptions = load_descriptions(doc)\n",
        "print('Loaded: %d ' % len(descriptions))"
      ]
    },
    {
      "cell_type": "code",
      "execution_count": null,
      "metadata": {
        "colab": {
          "base_uri": "https://localhost:8080/"
        },
        "id": "hk-5irSw3OzE",
        "outputId": "e743f8f8-09ce-4c2a-bb64-68b0d6646edc"
      },
      "outputs": [
        {
          "output_type": "execute_result",
          "data": {
            "text/plain": [
              "['A child in a pink dress is climbing up a set of stairs in an entry way .',\n",
              " 'A girl going into a wooden building .',\n",
              " 'A little girl climbing into a wooden playhouse .',\n",
              " 'A little girl climbing the stairs to her playhouse .',\n",
              " 'A little girl in a pink dress going into a wooden cabin .']"
            ]
          },
          "metadata": {},
          "execution_count": 336
        }
      ],
      "source": [
        "descriptions['1000268201_693b08cb0e']"
      ]
    },
    {
      "cell_type": "code",
      "execution_count": null,
      "metadata": {
        "id": "n6cMcAB3svAP"
      },
      "outputs": [],
      "source": [
        "# Preprocessing text\n",
        "def clean_descriptions(descriptions):\n",
        "\t# prepare translation table for removing punctuation\n",
        "\ttable = str.maketrans('', '', string.punctuation)\n",
        "\tfor key, desc_list in descriptions.items():\n",
        "\t\tfor i in range(len(desc_list)):\n",
        "\t\t\tdesc = desc_list[i]\n",
        "\t\t\t# tokenize\n",
        "\t\t\tdesc = desc.split()\n",
        "\t\t\t# convert to lower case\n",
        "\t\t\tdesc = [word.lower() for word in desc]\n",
        "\t\t\t# remove punctuation from each token\n",
        "\t\t\tdesc = [w.translate(table) for w in desc]\n",
        "\t\t\t# remove hanging 's' and 'a'\n",
        "\t\t\tdesc = [word for word in desc if len(word)>1]\n",
        "\t\t\t# remove tokens with numbers in them\n",
        "\t\t\tdesc = [word for word in desc if word.isalpha()]\n",
        "\t\t\t# store as string\n",
        "\t\t\tdesc_list[i] =  ' '.join(desc)\n",
        "\n",
        "# clean descriptions\n",
        "clean_descriptions(descriptions)"
      ]
    },
    {
      "cell_type": "code",
      "execution_count": null,
      "metadata": {
        "colab": {
          "base_uri": "https://localhost:8080/"
        },
        "id": "9tAa-LtVsvCb",
        "outputId": "917a9853-25f7-41e7-fb56-73c7f0d30d87"
      },
      "outputs": [
        {
          "output_type": "execute_result",
          "data": {
            "text/plain": [
              "['child in pink dress is climbing up set of stairs in an entry way',\n",
              " 'girl going into wooden building',\n",
              " 'little girl climbing into wooden playhouse',\n",
              " 'little girl climbing the stairs to her playhouse',\n",
              " 'little girl in pink dress going into wooden cabin']"
            ]
          },
          "metadata": {},
          "execution_count": 338
        }
      ],
      "source": [
        "descriptions['1000268201_693b08cb0e']"
      ]
    },
    {
      "cell_type": "code",
      "execution_count": null,
      "metadata": {
        "id": "VyqyNrH1svE7"
      },
      "outputs": [],
      "source": [
        "# Lưu description xuống file\n",
        "def save_descriptions(descriptions, filename):\n",
        "\tlines = list()\n",
        "\tfor key, desc_list in descriptions.items():\n",
        "\t\tfor desc in desc_list:\n",
        "\t\t\tlines.append(key + ' ' + desc)\n",
        "\tdata = '\\n'.join(lines)\n",
        "\tfile = open(filename, 'w')\n",
        "\tfile.write(data)\n",
        "\tfile.close()\n",
        "\n",
        "save_descriptions(descriptions, 'descriptions.txt')"
      ]
    },
    {
      "cell_type": "code",
      "execution_count": null,
      "metadata": {
        "colab": {
          "base_uri": "https://localhost:8080/"
        },
        "id": "ApXB-BRtsvHR",
        "outputId": "0a0a851a-2b20-4adc-e597-3c3eb854057b"
      },
      "outputs": [
        {
          "output_type": "stream",
          "name": "stdout",
          "text": [
            "Dataset: 6472\n"
          ]
        }
      ],
      "source": [
        "# Lấy id ảnh tương ứng với dữ liệu train, test, dev\n",
        "def load_set(filename):\n",
        "\tdoc = load_doc(filename)\n",
        "\tdataset = list()\n",
        "\t# process line by line\n",
        "\tfor line in doc.split('\\n'):\n",
        "\t\t# skip empty lines\n",
        "\t\tif len(line) < 1:\n",
        "\t\t\tcontinue\n",
        "\t\t# get the image identifier\n",
        "\t\tidentifier = line.split('.')[0]\n",
        "\t\tdataset.append(identifier)\n",
        "\treturn set(dataset)\n",
        "\n",
        "# load training dataset (6K)\n",
        "filename = '/content/gdrive/MyDrive/AI/Flickr8k_text.zip (Unzipped Files)/train_image.txt'\n",
        "train = load_set(filename)\n",
        "print('Dataset: %d' % len(train))"
      ]
    },
    {
      "cell_type": "code",
      "execution_count": null,
      "metadata": {
        "id": "68LTL9-vsvJg"
      },
      "outputs": [],
      "source": [
        "# Folder chứa dữ ảnh\n",
        "images = '/content/gdrive/MyDrive/AI/Flicker8k_Dataset/'\n",
        "# Lấy lấy các ảnh jpg trong thư mục\n",
        "img = glob.glob(images + '*.jpg')"
      ]
    },
    {
      "cell_type": "code",
      "execution_count": null,
      "metadata": {
        "id": "XZq39d0T3O1p"
      },
      "outputs": [],
      "source": [
        "# File chứa các id ảnh để train\n",
        "train_images_file = '/content/gdrive/MyDrive/AI/Flickr8k_text.zip (Unzipped Files)/train_image.txt'\n",
        "# Read the train image names in a set\n",
        "train_images = set(open(train_images_file, 'r').read().strip().split('\\n'))\n",
        "\n",
        "# Create a list of all the training images with their full path names\n",
        "train_img = []\n",
        "\n",
        "for i in img: # img is list of full path names of all images\n",
        "    if i[len(images):] in train_images: # Check if the image belongs to training set\n",
        "        train_img.append(i) # Add it to the list of train images"
      ]
    },
    {
      "cell_type": "code",
      "execution_count": null,
      "metadata": {
        "id": "Z29SFClqs4yF"
      },
      "outputs": [],
      "source": [
        "# File chứa các id ảnh để test\n",
        "test_images_file = '/content/gdrive/MyDrive/AI/Flickr8k_text.zip (Unzipped Files)/test_image.txt'\n",
        "# Read the validation image names in a set# Read the test image names in a set\n",
        "test_images = set(open(test_images_file, 'r').read().strip().split('\\n'))\n",
        "\n",
        "# Create a list of all the test images with their full path names\n",
        "test_img = []\n",
        "\n",
        "for i in img: # img is list of full path names of all images\n",
        "    if i[len(images):] in test_images: # Check if the image belongs to test set\n",
        "        test_img.append(i) # Add it to the list of test images"
      ]
    },
    {
      "cell_type": "code",
      "execution_count": null,
      "metadata": {
        "colab": {
          "base_uri": "https://localhost:8080/"
        },
        "id": "hu3Amjnns40j",
        "outputId": "c04b8c1e-f01c-41ba-caf8-685fff8aa4d7"
      },
      "outputs": [
        {
          "output_type": "stream",
          "name": "stdout",
          "text": [
            "Descriptions: train=6472\n"
          ]
        }
      ],
      "source": [
        "# Thêm 'startseq', 'endseq' cho chuỗi\n",
        "def load_clean_descriptions(filename, dataset):\n",
        "\t# load document\n",
        "\tdoc = load_doc(filename)\n",
        "\tdescriptions = dict()\n",
        "\tfor line in doc.split('\\n'):\n",
        "\t\t# split line by white space\n",
        "\t\ttokens = line.split()\n",
        "\t\t# split id from description\n",
        "\t\timage_id, image_desc = tokens[0], tokens[1:]\n",
        "\t\t# skip images not in the set\n",
        "\t\tif image_id in dataset:\n",
        "\t\t\t# create list\n",
        "\t\t\tif image_id not in descriptions:\n",
        "\t\t\t\tdescriptions[image_id] = list()\n",
        "\t\t\t# wrap description in tokens\n",
        "\t\t\tdesc = 'startseq ' + ' '.join(image_desc) + ' endseq'\n",
        "\t\t\t# store\n",
        "\t\t\tdescriptions[image_id].append(desc)\n",
        "\treturn descriptions\n",
        "\n",
        "# descriptions\n",
        "train_descriptions = load_clean_descriptions('descriptions.txt', train)\n",
        "print('Descriptions: train=%d' % len(train_descriptions))"
      ]
    },
    {
      "cell_type": "code",
      "execution_count": null,
      "metadata": {
        "id": "R1TX7Lwjs428"
      },
      "outputs": [],
      "source": [
        "# Load ảnh, resize về khích thước mà Inception v3 yêu cầu.\n",
        "def preprocess(image_path):\n",
        "    # Convert all the images to size 299x299 as expected by the inception v3 model\n",
        "    img = image.load_img(image_path, target_size=(224, 224))\n",
        "    # Convert PIL image to numpy array of 3-dimensions\n",
        "    x = image.img_to_array(img)\n",
        "    # Add one more dimension\n",
        "    x = np.expand_dims(x, axis=0)\n",
        "    # preprocess the images using preprocess_input() from inception module\n",
        "    x = preprocess_input(x)\n",
        "    return x"
      ]
    },
    {
      "cell_type": "code",
      "execution_count": null,
      "metadata": {
        "id": "ARtFpQRIth4j"
      },
      "outputs": [],
      "source": [
        "# Load the inception v3 model\n",
        "# model = InceptionV3(weights='imagenet')\n",
        "\n",
        "# # Load the inception v3 model\n",
        "# model = VGG16(weights='imagenet')\n",
        "\n",
        "# Load the inception v3 model\n",
        "model = EfficientNetB0(weights='imagenet')"
      ]
    },
    {
      "cell_type": "code",
      "execution_count": null,
      "metadata": {
        "id": "czo9Gs06th7I"
      },
      "outputs": [],
      "source": [
        "# Tạo model mới, bỏ layer cuối từ inception v3\n",
        "model_new = Model(model.input, model.layers[-2].output)"
      ]
    },
    {
      "cell_type": "code",
      "execution_count": null,
      "metadata": {
        "id": "_mLF7zgsth9e"
      },
      "outputs": [],
      "source": [
        "# Image embedding thành vector (2048, )\n",
        "def encode(image):\n",
        "    image = preprocess(image) # preprocess the image\n",
        "    fea_vec = model_new.predict(image) # Get the encoding vector for the image\n",
        "    fea_vec = np.reshape(fea_vec, fea_vec.shape[1]) # reshape from (1, 2048) to (2048, )\n",
        "    return fea_vec"
      ]
    },
    {
      "cell_type": "code",
      "execution_count": null,
      "metadata": {
        "id": "uaHQ8N9Ltm2H"
      },
      "outputs": [],
      "source": [
        "# # Gọi hàm encode với các ảnh trong traning set\n",
        "# start = time()\n",
        "# encoding_train = {}\n",
        "# for img in train_img:\n",
        "#     encoding_train[img[len(images):]] = encode(img)\n",
        "# print(\"Time taken in seconds =\", time()-start)"
      ]
    },
    {
      "cell_type": "code",
      "execution_count": null,
      "metadata": {
        "id": "FxO7JG17tm4P"
      },
      "outputs": [],
      "source": [
        "# # Lưu image embedding lại\n",
        "# with open(\"/content/gdrive/MyDrive/AI/encoded/encode_train_EfficientNetB0.pkl\", \"wb\") as encoded_pickle:\n",
        "#     dump(encoding_train, encoded_pickle)"
      ]
    },
    {
      "cell_type": "code",
      "execution_count": null,
      "metadata": {
        "id": "KnxqegOUtm6z"
      },
      "outputs": [],
      "source": [
        "# # Encode test image\n",
        "# start = time()\n",
        "# encoding_test = {}\n",
        "# for img in test_img:\n",
        "#     encoding_test[img[len(images):]] = encode(img)\n",
        "# print(\"Time taken in seconds =\", time()-start)"
      ]
    },
    {
      "cell_type": "code",
      "execution_count": null,
      "metadata": {
        "id": "ZlZaNvLPtr7O"
      },
      "outputs": [],
      "source": [
        "# # Save the bottleneck test features to disk\n",
        "# with open(\"/content/gdrive/MyDrive/AI/encoded/encode_test_EfficientNetB0.pkl\", \"wb\") as encoded_pickle:\n",
        "#     dump(encoding_test, encoded_pickle)"
      ]
    },
    {
      "cell_type": "code",
      "execution_count": null,
      "metadata": {
        "colab": {
          "base_uri": "https://localhost:8080/"
        },
        "id": "uOajQpYftr9w",
        "outputId": "c4c3ddd7-d971-469a-f151-a2b3df630564"
      },
      "outputs": [
        {
          "output_type": "stream",
          "name": "stdout",
          "text": [
            "Photos: train=6472\n"
          ]
        }
      ],
      "source": [
        "train_features = load(open(\"/content/gdrive/MyDrive/AI/encoded/encode_train_EfficientNetB0.pkl\", \"rb\"))\n",
        "print('Photos: train=%d' % len(train_features))"
      ]
    },
    {
      "cell_type": "code",
      "execution_count": null,
      "metadata": {
        "colab": {
          "base_uri": "https://localhost:8080/"
        },
        "id": "Uqd8W505pZnE",
        "outputId": "7e25f9c6-94a8-4bf1-cbf0-428f84a4ab66"
      },
      "outputs": [
        {
          "output_type": "stream",
          "name": "stdout",
          "text": [
            "Photos: test=1619\n"
          ]
        }
      ],
      "source": [
        "test_features = load(open(\"/content/gdrive/MyDrive/AI/encoded/encode_test_EfficientNetB0.pkl\", \"rb\"))\n",
        "print('Photos: test=%d' % len(test_features))"
      ]
    },
    {
      "cell_type": "code",
      "execution_count": null,
      "metadata": {
        "colab": {
          "base_uri": "https://localhost:8080/"
        },
        "id": "jccmhPhItsAJ",
        "outputId": "537d92f7-75a6-43a0-e5c5-98e4765d64bd"
      },
      "outputs": [
        {
          "output_type": "execute_result",
          "data": {
            "text/plain": [
              "32360"
            ]
          },
          "metadata": {},
          "execution_count": 355
        }
      ],
      "source": [
        "# Tạo list các training caption\n",
        "all_train_captions = []\n",
        "for key, val in train_descriptions.items():\n",
        "    for cap in val:\n",
        "        all_train_captions.append(cap)\n",
        "len(all_train_captions)"
      ]
    },
    {
      "cell_type": "code",
      "execution_count": null,
      "metadata": {
        "colab": {
          "base_uri": "https://localhost:8080/"
        },
        "id": "M6ha-9lntsCu",
        "outputId": "56252abf-f570-4243-bcef-11fbd55260ab"
      },
      "outputs": [
        {
          "output_type": "stream",
          "name": "stdout",
          "text": [
            "preprocessed words 7921 -> 2019\n"
          ]
        }
      ],
      "source": [
        "# Chỉ lấy các từ xuất hiện trên 2 lần\n",
        "word_count_threshold = 8\n",
        "word_counts = {}\n",
        "nsents = 0\n",
        "for sent in all_train_captions:\n",
        "    nsents += 1\n",
        "    for w in sent.split(' '):\n",
        "        word_counts[w] = word_counts.get(w, 0) + 1\n",
        "\n",
        "vocab = [w for w in word_counts if word_counts[w] >= word_count_threshold]\n",
        "print('preprocessed words %d -> %d' % (len(word_counts), len(vocab)))"
      ]
    },
    {
      "cell_type": "code",
      "execution_count": null,
      "metadata": {
        "id": "5NzNhf6wtsEu"
      },
      "outputs": [],
      "source": [
        "ixtoword = {}\n",
        "wordtoix = {}\n",
        "\n",
        "ix = 1\n",
        "for w in vocab:\n",
        "    wordtoix[w] = ix\n",
        "    ixtoword[ix] = w\n",
        "    ix += 1"
      ]
    },
    {
      "cell_type": "code",
      "execution_count": null,
      "metadata": {
        "colab": {
          "base_uri": "https://localhost:8080/"
        },
        "id": "ik2a5oTetyJX",
        "outputId": "cd1bd312-e227-4f58-d821-c2473e4b5f2d"
      },
      "outputs": [
        {
          "output_type": "execute_result",
          "data": {
            "text/plain": [
              "2020"
            ]
          },
          "metadata": {},
          "execution_count": 358
        }
      ],
      "source": [
        "vocab_size = len(ixtoword) + 1 # Thêm 1 cho từ dùng để padding\n",
        "vocab_size"
      ]
    },
    {
      "cell_type": "code",
      "execution_count": null,
      "metadata": {
        "colab": {
          "base_uri": "https://localhost:8080/"
        },
        "id": "RbpS8lnYtyOl",
        "outputId": "67ec1dfb-9741-4b53-ec01-00f355ef1f50"
      },
      "outputs": [
        {
          "output_type": "stream",
          "name": "stdout",
          "text": [
            "Description Length: 34\n"
          ]
        }
      ],
      "source": [
        "# convert a dictionary of clean descriptions to a list of descriptions\n",
        "def to_lines(descriptions):\n",
        "\tall_desc = list()\n",
        "\tfor key in descriptions.keys():\n",
        "\t\t[all_desc.append(d) for d in descriptions[key]]\n",
        "\treturn all_desc\n",
        "\n",
        "# calculate the length of the description with the most words\n",
        "def max_length(descriptions):\n",
        "\tlines = to_lines(descriptions)\n",
        "\treturn max(len(d.split()) for d in lines)\n",
        "\n",
        "# determine the maximum sequence length\n",
        "max_length = max_length(train_descriptions)\n",
        "print('Description Length: %d' % max_length)"
      ]
    },
    {
      "cell_type": "code",
      "execution_count": null,
      "metadata": {
        "id": "KHom-IHHtyQ6"
      },
      "outputs": [],
      "source": [
        "# data generator cho việc train theo từng batch model.fit_generator()\n",
        "def data_generator(descriptions, photos, wordtoix, max_length, num_photos_per_batch):\n",
        "    X1, X2, y = list(), list(), list()\n",
        "    n=0\n",
        "    # loop for ever over images\n",
        "    while 1:\n",
        "        for key, desc_list in descriptions.items():\n",
        "            n+=1\n",
        "            # retrieve the photo feature\n",
        "            photo = photos[key+'.jpg']\n",
        "            for desc in desc_list:\n",
        "                # encode the sequence\n",
        "                seq = [wordtoix[word] for word in desc.split(' ') if word in wordtoix]\n",
        "                # split one sequence into multiple X, y pairs\n",
        "                for i in range(1, len(seq)):\n",
        "                    # split into input and output pair\n",
        "                    in_seq, out_seq = seq[:i], seq[i]\n",
        "                    # pad input sequence\n",
        "                    in_seq = pad_sequences([in_seq], maxlen=max_length)[0]\n",
        "                    # encode output sequence\n",
        "                    out_seq = to_categorical([out_seq], num_classes=vocab_size)[0]\n",
        "                    # store\n",
        "                    X1.append(photo)\n",
        "                    X2.append(in_seq)\n",
        "                    y.append(out_seq)\n",
        "            # yield the batch data\n",
        "            if n==num_photos_per_batch:\n",
        "                yield [[array(X1), array(X2)], array(y)]\n",
        "                X1, X2, y = list(), list(), list()\n",
        "                n=0"
      ]
    },
    {
      "cell_type": "code",
      "execution_count": null,
      "metadata": {
        "colab": {
          "base_uri": "https://localhost:8080/"
        },
        "id": "p-LSNci8tyTU",
        "outputId": "7ae46d46-1f3c-477c-b91e-ca25d2f40301"
      },
      "outputs": [
        {
          "output_type": "stream",
          "name": "stdout",
          "text": [
            "Found 400000 word vectors.\n"
          ]
        }
      ],
      "source": [
        "# Load Glove model\n",
        "glove_dir = ''\n",
        "embeddings_index = {} # empty dictionary\n",
        "f = open(os.path.join(glove_dir, '/content/gdrive/MyDrive/AI/glove.6B.zip (Unzipped Files)/glove.6B.200d.txt'), encoding=\"utf-8\")\n",
        "\n",
        "for line in f:\n",
        "    values = line.split()\n",
        "    word = values[0]\n",
        "    coefs = np.asarray(values[1:], dtype='float32')\n",
        "    embeddings_index[word] = coefs\n",
        "f.close()\n",
        "print('Found %s word vectors.' % len(embeddings_index))"
      ]
    },
    {
      "cell_type": "code",
      "execution_count": null,
      "metadata": {
        "id": "r9TL2BcztyXe"
      },
      "outputs": [],
      "source": [
        "# embeddings_index['the']"
      ]
    },
    {
      "cell_type": "code",
      "execution_count": null,
      "metadata": {
        "id": "92IYtCGSt8T2"
      },
      "outputs": [],
      "source": [
        "embedding_dim = 200\n",
        "\n",
        "# Get 200-dim dense vector for each of the 10000 words in out vocabulary\n",
        "embedding_matrix = np.zeros((vocab_size, embedding_dim))\n",
        "\n",
        "for word, i in wordtoix.items():\n",
        "    #if i < max_words:\n",
        "    embedding_vector = embeddings_index.get(word)\n",
        "    if embedding_vector is not None:\n",
        "        # Words not found in the embedding index will be all zeros\n",
        "        embedding_matrix[i] = embedding_vector"
      ]
    },
    {
      "cell_type": "code",
      "execution_count": null,
      "metadata": {
        "colab": {
          "base_uri": "https://localhost:8080/"
        },
        "id": "SrEquqbzt8WZ",
        "outputId": "19cc8b33-a613-4157-bb76-37305495b2e6"
      },
      "outputs": [
        {
          "output_type": "execute_result",
          "data": {
            "text/plain": [
              "(2020, 200)"
            ]
          },
          "metadata": {},
          "execution_count": 364
        }
      ],
      "source": [
        "embedding_matrix.shape"
      ]
    },
    {
      "cell_type": "code",
      "execution_count": null,
      "metadata": {
        "id": "2_4Euhywt8Y3"
      },
      "outputs": [],
      "source": [
        "# Tạo model\n",
        "inputs1 = Input(shape=(1280,))\n",
        "fe1 = Dropout(0.5)(inputs1)\n",
        "fe2 = Dense(256, activation='relu')(fe1)\n",
        "inputs2 = Input(shape=(max_length,))\n",
        "se1 = Embedding(vocab_size, embedding_dim, mask_zero=True)(inputs2)\n",
        "se2 = Dropout(0.5)(se1)\n",
        "se3 = LSTM(256)(se2)\n",
        "decoder1 = add([fe2, se3])\n",
        "decoder2 = Dense(256, activation='relu')(decoder1)\n",
        "outputs = Dense(vocab_size, activation='softmax')(decoder2)\n",
        "model = Model(inputs=[inputs1, inputs2], outputs=outputs)"
      ]
    },
    {
      "cell_type": "code",
      "execution_count": null,
      "metadata": {
        "colab": {
          "base_uri": "https://localhost:8080/"
        },
        "id": "AAEeF5eIuAqf",
        "outputId": "a7ef3f09-14a3-4f49-bc48-e4af0431585b"
      },
      "outputs": [
        {
          "output_type": "stream",
          "name": "stdout",
          "text": [
            "Model: \"model_15\"\n",
            "__________________________________________________________________________________________________\n",
            " Layer (type)                   Output Shape         Param #     Connected to                     \n",
            "==================================================================================================\n",
            " input_25 (InputLayer)          [(None, 34)]         0           []                               \n",
            "                                                                                                  \n",
            " input_24 (InputLayer)          [(None, 1280)]       0           []                               \n",
            "                                                                                                  \n",
            " embedding_8 (Embedding)        (None, 34, 200)      404000      ['input_25[0][0]']               \n",
            "                                                                                                  \n",
            " dropout_16 (Dropout)           (None, 1280)         0           ['input_24[0][0]']               \n",
            "                                                                                                  \n",
            " dropout_17 (Dropout)           (None, 34, 200)      0           ['embedding_8[0][0]']            \n",
            "                                                                                                  \n",
            " dense_24 (Dense)               (None, 256)          327936      ['dropout_16[0][0]']             \n",
            "                                                                                                  \n",
            " lstm_8 (LSTM)                  (None, 256)          467968      ['dropout_17[0][0]']             \n",
            "                                                                                                  \n",
            " add_8 (Add)                    (None, 256)          0           ['dense_24[0][0]',               \n",
            "                                                                  'lstm_8[0][0]']                 \n",
            "                                                                                                  \n",
            " dense_25 (Dense)               (None, 256)          65792       ['add_8[0][0]']                  \n",
            "                                                                                                  \n",
            " dense_26 (Dense)               (None, 2020)         519140      ['dense_25[0][0]']               \n",
            "                                                                                                  \n",
            "==================================================================================================\n",
            "Total params: 1,784,836\n",
            "Trainable params: 1,784,836\n",
            "Non-trainable params: 0\n",
            "__________________________________________________________________________________________________\n"
          ]
        }
      ],
      "source": [
        "model.summary()"
      ]
    },
    {
      "cell_type": "code",
      "execution_count": null,
      "metadata": {
        "id": "QqqCiZ37uAtK"
      },
      "outputs": [],
      "source": [
        "# # Layer 2 dùng GLOVE Model nên set weight thẳng và không cần train\n",
        "# model.layers[2].set_weights([embedding_matrix])\n",
        "# model.layers[2].trainable = False"
      ]
    },
    {
      "cell_type": "code",
      "execution_count": null,
      "metadata": {
        "id": "VtAKa4PUuAvi"
      },
      "outputs": [],
      "source": [
        "model.compile(loss='categorical_crossentropy', optimizer='adam')"
      ]
    },
    {
      "cell_type": "code",
      "execution_count": null,
      "metadata": {
        "id": "EAo1mpDzuAx8"
      },
      "outputs": [],
      "source": [
        "model.optimizer.lr = 0.0001\n",
        "epochs = 15\n",
        "number_pics_per_bath = 6\n",
        "steps = len(train_descriptions)//number_pics_per_bath"
      ]
    },
    {
      "cell_type": "code",
      "execution_count": null,
      "metadata": {
        "colab": {
          "base_uri": "https://localhost:8080/",
          "height": 200
        },
        "id": "pnPStIFet8bK",
        "outputId": "b3f7eba8-4fcb-406f-dbf3-58d1dc924bf9"
      },
      "outputs": [
        {
          "output_type": "error",
          "ename": "NameError",
          "evalue": "ignored",
          "traceback": [
            "\u001b[0;31m---------------------------------------------------------------------------\u001b[0m",
            "\u001b[0;31mNameError\u001b[0m                                 Traceback (most recent call last)",
            "\u001b[0;32m<ipython-input-1-b2b87acd2d33>\u001b[0m in \u001b[0;36m<module>\u001b[0;34m\u001b[0m\n\u001b[0;32m----> 1\u001b[0;31m \u001b[0;32mfor\u001b[0m \u001b[0mi\u001b[0m \u001b[0;32min\u001b[0m \u001b[0mrange\u001b[0m\u001b[0;34m(\u001b[0m\u001b[0mepochs\u001b[0m\u001b[0;34m)\u001b[0m\u001b[0;34m:\u001b[0m\u001b[0;34m\u001b[0m\u001b[0;34m\u001b[0m\u001b[0m\n\u001b[0m\u001b[1;32m      2\u001b[0m     \u001b[0mgenerator\u001b[0m \u001b[0;34m=\u001b[0m \u001b[0mdata_generator\u001b[0m\u001b[0;34m(\u001b[0m\u001b[0mtrain_descriptions\u001b[0m\u001b[0;34m,\u001b[0m \u001b[0mtrain_features\u001b[0m\u001b[0;34m,\u001b[0m \u001b[0mwordtoix\u001b[0m\u001b[0;34m,\u001b[0m \u001b[0mmax_length\u001b[0m\u001b[0;34m,\u001b[0m \u001b[0mnumber_pics_per_bath\u001b[0m\u001b[0;34m)\u001b[0m\u001b[0;34m\u001b[0m\u001b[0;34m\u001b[0m\u001b[0m\n\u001b[1;32m      3\u001b[0m     \u001b[0mmodel\u001b[0m\u001b[0;34m.\u001b[0m\u001b[0mfit_generator\u001b[0m\u001b[0;34m(\u001b[0m\u001b[0mgenerator\u001b[0m\u001b[0;34m,\u001b[0m \u001b[0mepochs\u001b[0m\u001b[0;34m=\u001b[0m\u001b[0;36m1\u001b[0m\u001b[0;34m,\u001b[0m \u001b[0msteps_per_epoch\u001b[0m\u001b[0;34m=\u001b[0m\u001b[0msteps\u001b[0m\u001b[0;34m,\u001b[0m \u001b[0mverbose\u001b[0m\u001b[0;34m=\u001b[0m\u001b[0;36m1\u001b[0m\u001b[0;34m)\u001b[0m\u001b[0;34m\u001b[0m\u001b[0;34m\u001b[0m\u001b[0m\n",
            "\u001b[0;31mNameError\u001b[0m: name 'epochs' is not defined"
          ]
        }
      ],
      "source": [
        "for i in range(epochs):\n",
        "    generator = data_generator(train_descriptions, train_features, wordtoix, max_length, number_pics_per_bath)\n",
        "    model.fit_generator(generator, epochs=1, steps_per_epoch=steps, verbose=1)"
      ]
    },
    {
      "cell_type": "code",
      "execution_count": null,
      "metadata": {
        "id": "whdjjaa43O6Z"
      },
      "outputs": [],
      "source": [
        "\n",
        "model.save_weights('/content/gdrive/MyDrive/AI/model_weights/model_EfficientNetB0_5_epoch_voc8.h5')"
      ]
    },
    {
      "cell_type": "code",
      "execution_count": null,
      "metadata": {
        "id": "jzvj8H520THo"
      },
      "outputs": [],
      "source": [
        "# load pretrain weight\n",
        "model.load_weights('/content/gdrive/MyDrive/AI/model_weights/model_EfficientNetB0_5_epoch_voc8.h5')     "
      ]
    },
    {
      "cell_type": "code",
      "execution_count": null,
      "metadata": {
        "id": "ZkkdSQmruHZE"
      },
      "outputs": [],
      "source": [
        "images = '/content/gdrive/MyDrive/AI/Flicker8k_Dataset/'"
      ]
    },
    {
      "cell_type": "code",
      "execution_count": null,
      "metadata": {
        "id": "PCxhe5b2uHdf"
      },
      "outputs": [],
      "source": [
        "# Với môi ảnh mới khi test, ta sẽ bắt đầu chuỗi với 'startseq' rồi sau đó cho vào model để dự đoán từ tiếp theo. Ta thêm từ\n",
        "# vừa được dự đoán vào chuỗi và tiếp tục cho đến khi gặp 'endseq' là kết thúc hoặc cho đến khi chuỗi dài 34 từ.\n",
        "def greedySearch(photo):\n",
        "    in_text = 'startseq'\n",
        "    for i in range(max_length):\n",
        "        sequence = [wordtoix[w] for w in in_text.split() if w in wordtoix]\n",
        "        sequence = pad_sequences([sequence], maxlen=max_length)\n",
        "        yhat = model.predict([photo,sequence], verbose=0)\n",
        "        yhat = np.argmax(yhat)\n",
        "        word = ixtoword[yhat]\n",
        "        in_text += ' ' + word\n",
        "        if word == 'endseq':\n",
        "            break\n",
        "    final = in_text.split()\n",
        "    final = final[1:-1]\n",
        "    final = ' '.join(final)\n",
        "    return final"
      ]
    },
    {
      "cell_type": "code",
      "execution_count": null,
      "metadata": {
        "id": "8ULxkxpXuHbc"
      },
      "outputs": [],
      "source": [
        "with open(\"/content/gdrive/MyDrive/AI/encoded/encode_test_EfficientNetB0.pkl\", \"rb\") as encoded_pickle:\n",
        "    encoding_test = load(encoded_pickle)"
      ]
    },
    {
      "cell_type": "code",
      "execution_count": null,
      "metadata": {
        "id": "j-PfNu1YuHfo"
      },
      "outputs": [],
      "source": [
        "print(len(list(encoding_test.keys())))\n",
        "pic = list(encoding_test.keys())[756]\n",
        "pic2 = list(encoding_test.keys())[0]\n",
        "print(pic)\n",
        "image = encoding_test[pic].reshape((1,1280))\n",
        "image2 = encoding_test[pic2].reshape((1,1280))\n",
        "print(image)\n",
        "print(image2)\n",
        "x=plt.imread(images+pic)\n",
        "plt.imshow(x)\n",
        "plt.show()\n",
        "print(greedySearch(image))"
      ]
    },
    {
      "cell_type": "code",
      "execution_count": null,
      "metadata": {
        "id": "KKNYqC-IbdEI"
      },
      "outputs": [],
      "source": [
        "from tqdm import tqdm\n",
        "from nltk.translate.bleu_score import sentence_bleu\n",
        "from nltk.translate.bleu_score import SmoothingFunction\n",
        "data_size = len(encoding_test)\n",
        "accumulated_score = 0\n",
        "predictions = {}\n",
        "for z in tqdm(range(data_size), total=data_size):\n",
        "    sample = list(encoding_test.keys())[z]\n",
        "    # image = encoding_test[sample].reshape((1,2048))\n",
        "    # Loading descriptions from groundtruth\n",
        "    references = descriptions[sample[:-4]]\n",
        "    references = [ref.split(\" \")[:-1] for ref in references]\n",
        "\n",
        "    # Getting model's prediction\n",
        "    embedding = encoding_test[sample]\n",
        "    image = encoding_test[sample].reshape((1,1280))\n",
        "    prediction = greedySearch(image)\n",
        "    predictions[sample[:-4]] = prediction\n",
        "    prediction = prediction.split(\" \")[:-1]\n",
        "\n",
        "    # Calculating each sample's BLEU\n",
        "    bleu_score = sentence_bleu(references, prediction,weights=(1,))\n",
        "    accumulated_score += bleu_score\n",
        "\n",
        "avg_bleu_score = accumulated_score / data_size\n",
        "print(f\"BLEU Score 8: {avg_bleu_score}\")"
      ]
    }
  ],
  "metadata": {
    "accelerator": "GPU",
    "colab": {
      "provenance": []
    },
    "gpuClass": "standard",
    "kernelspec": {
      "display_name": "Python 3",
      "name": "python3"
    },
    "language_info": {
      "name": "python"
    }
  },
  "nbformat": 4,
  "nbformat_minor": 0
}